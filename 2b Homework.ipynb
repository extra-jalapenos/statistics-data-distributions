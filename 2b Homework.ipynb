{
 "cells": [
  {
   "cell_type": "markdown",
   "id": "d25d14b7-c06e-4107-9378-e9a760dc7e4d",
   "metadata": {},
   "source": [
    "# Data Distribution"
   ]
  },
  {
   "cell_type": "markdown",
   "id": "f8d39ff1-490e-4110-9ff1-8880fdba895c",
   "metadata": {},
   "source": [
    "### Homework"
   ]
  },
  {
   "cell_type": "markdown",
   "id": "e5aac0b8-67cf-496d-8b82-d7a2910ef36b",
   "metadata": {},
   "source": [
    "Before you begin, remember to import the necessary libraries."
   ]
  },
  {
   "cell_type": "code",
   "execution_count": 1,
   "id": "33de4fa0-4c6b-412e-9d31-b60b777ec39a",
   "metadata": {},
   "outputs": [],
   "source": [
    "import numpy as np\n",
    "import pandas as pd\n",
    "from scipy import stats\n",
    "\n",
    "import matplotlib.pyplot as plt\n",
    "import seaborn as sns\n",
    "sns.set_theme()"
   ]
  },
  {
   "cell_type": "markdown",
   "id": "27b04ce2-c877-4690-ab17-0936ded72eca",
   "metadata": {},
   "source": [
    "The following `cc` DataFrame comes from [this Kaggle dataset](https://www.kaggle.com/datasets/satvicoder/call-center-data?resource=download) and contains data coming from a Call Center. Have a look at the data itself as well as the column's data types. "
   ]
  },
  {
   "cell_type": "code",
   "execution_count": 2,
   "id": "6463c1ad-2110-4b98-a38f-35bd37013443",
   "metadata": {},
   "outputs": [
    {
     "data": {
      "text/html": [
       "<div>\n",
       "<style scoped>\n",
       "    .dataframe tbody tr th:only-of-type {\n",
       "        vertical-align: middle;\n",
       "    }\n",
       "\n",
       "    .dataframe tbody tr th {\n",
       "        vertical-align: top;\n",
       "    }\n",
       "\n",
       "    .dataframe thead th {\n",
       "        text-align: right;\n",
       "    }\n",
       "</style>\n",
       "<table border=\"1\" class=\"dataframe\">\n",
       "  <thead>\n",
       "    <tr style=\"text-align: right;\">\n",
       "      <th></th>\n",
       "      <th>Index</th>\n",
       "      <th>Incoming Calls</th>\n",
       "      <th>Answered Calls</th>\n",
       "      <th>Answer Rate</th>\n",
       "      <th>Abandoned Calls</th>\n",
       "      <th>Answer Speed (AVG)</th>\n",
       "      <th>Talk Duration (AVG)</th>\n",
       "      <th>Waiting Time (AVG)</th>\n",
       "      <th>Service Level (20 Seconds)</th>\n",
       "    </tr>\n",
       "  </thead>\n",
       "  <tbody>\n",
       "    <tr>\n",
       "      <th>990</th>\n",
       "      <td>991</td>\n",
       "      <td>161</td>\n",
       "      <td>150</td>\n",
       "      <td>93.17%</td>\n",
       "      <td>11</td>\n",
       "      <td>0:00:36</td>\n",
       "      <td>0:02:51</td>\n",
       "      <td>0:05:53</td>\n",
       "      <td>52.80%</td>\n",
       "    </tr>\n",
       "    <tr>\n",
       "      <th>441</th>\n",
       "      <td>442</td>\n",
       "      <td>140</td>\n",
       "      <td>130</td>\n",
       "      <td>92.86%</td>\n",
       "      <td>10</td>\n",
       "      <td>0:00:29</td>\n",
       "      <td>0:02:31</td>\n",
       "      <td>0:07:35</td>\n",
       "      <td>62.32%</td>\n",
       "    </tr>\n",
       "    <tr>\n",
       "      <th>432</th>\n",
       "      <td>433</td>\n",
       "      <td>177</td>\n",
       "      <td>156</td>\n",
       "      <td>88.14%</td>\n",
       "      <td>21</td>\n",
       "      <td>0:00:42</td>\n",
       "      <td>0:02:39</td>\n",
       "      <td>0:03:16</td>\n",
       "      <td>42.37%</td>\n",
       "    </tr>\n",
       "    <tr>\n",
       "      <th>154</th>\n",
       "      <td>155</td>\n",
       "      <td>58</td>\n",
       "      <td>55</td>\n",
       "      <td>94.83%</td>\n",
       "      <td>3</td>\n",
       "      <td>0:00:16</td>\n",
       "      <td>0:02:11</td>\n",
       "      <td>0:02:45</td>\n",
       "      <td>74.14%</td>\n",
       "    </tr>\n",
       "    <tr>\n",
       "      <th>130</th>\n",
       "      <td>131</td>\n",
       "      <td>85</td>\n",
       "      <td>79</td>\n",
       "      <td>92.94%</td>\n",
       "      <td>6</td>\n",
       "      <td>0:00:18</td>\n",
       "      <td>0:02:25</td>\n",
       "      <td>0:01:53</td>\n",
       "      <td>77.38%</td>\n",
       "    </tr>\n",
       "  </tbody>\n",
       "</table>\n",
       "</div>"
      ],
      "text/plain": [
       "     Index  Incoming Calls  Answered Calls Answer Rate  Abandoned Calls  \\\n",
       "990    991             161             150      93.17%               11   \n",
       "441    442             140             130      92.86%               10   \n",
       "432    433             177             156      88.14%               21   \n",
       "154    155              58              55      94.83%                3   \n",
       "130    131              85              79      92.94%                6   \n",
       "\n",
       "    Answer Speed (AVG) Talk Duration (AVG) Waiting Time (AVG)  \\\n",
       "990            0:00:36             0:02:51            0:05:53   \n",
       "441            0:00:29             0:02:31            0:07:35   \n",
       "432            0:00:42             0:02:39            0:03:16   \n",
       "154            0:00:16             0:02:11            0:02:45   \n",
       "130            0:00:18             0:02:25            0:01:53   \n",
       "\n",
       "    Service Level (20 Seconds)  \n",
       "990                     52.80%  \n",
       "441                     62.32%  \n",
       "432                     42.37%  \n",
       "154                     74.14%  \n",
       "130                     77.38%  "
      ]
     },
     "execution_count": 2,
     "metadata": {},
     "output_type": "execute_result"
    }
   ],
   "source": [
    "# Run this cell - do not delete it\n",
    "cc = pd.read_csv(\"data/Call Center Data.csv\")\n",
    "cc.sample(5)"
   ]
  },
  {
   "cell_type": "code",
   "execution_count": 3,
   "id": "f315ec99-849c-4f95-ba07-7f2410128240",
   "metadata": {},
   "outputs": [
    {
     "name": "stdout",
     "output_type": "stream",
     "text": [
      "<class 'pandas.core.frame.DataFrame'>\n",
      "RangeIndex: 1251 entries, 0 to 1250\n",
      "Data columns (total 9 columns):\n",
      " #   Column                      Non-Null Count  Dtype \n",
      "---  ------                      --------------  ----- \n",
      " 0   Index                       1251 non-null   int64 \n",
      " 1   Incoming Calls              1251 non-null   int64 \n",
      " 2   Answered Calls              1251 non-null   int64 \n",
      " 3   Answer Rate                 1251 non-null   object\n",
      " 4   Abandoned Calls             1251 non-null   int64 \n",
      " 5   Answer Speed (AVG)          1251 non-null   object\n",
      " 6   Talk Duration (AVG)         1251 non-null   object\n",
      " 7   Waiting Time (AVG)          1251 non-null   object\n",
      " 8   Service Level (20 Seconds)  1251 non-null   object\n",
      "dtypes: int64(4), object(5)\n",
      "memory usage: 88.1+ KB\n"
     ]
    }
   ],
   "source": [
    "cc.info()"
   ]
  },
  {
   "cell_type": "markdown",
   "id": "d9787e5b-c46c-4edc-a54b-19810e300205",
   "metadata": {},
   "source": [
    "1. As you can see, some of the columns such as `Answer Rate` and `Service Level (20 Seconds)` have % signs in them and are thus interpreted as strings. Convert them to numeric. "
   ]
  },
  {
   "cell_type": "code",
   "execution_count": null,
   "id": "0efb9452-c623-4081-8274-3c0b23e771ba",
   "metadata": {},
   "outputs": [],
   "source": []
  },
  {
   "cell_type": "markdown",
   "id": "e4528645-6de4-406e-bd5b-804259b130cd",
   "metadata": {},
   "source": [
    "2. The other issue is with the columns `Answer Speed (AVG)`, `Talk Duration (AVG)` and `Waiting Time (AVG)`. The cell below shows you how to convert the `Answer Speed (AVG)` string variable to a new column `Answer Speed (sec)` showing the same time information in seconds. Your task is to **create a function** that, given the following inputs, creates a new column in the DataFrame with the correct format in seconds: \n",
    "    1. `df`: DataFrame name \n",
    "    2. `old_col`: the existing column name in string format \n",
    "    3. `new_col`: new column name to be created in (sec) format "
   ]
  },
  {
   "cell_type": "code",
   "execution_count": 4,
   "id": "39bcdb30-715a-488f-8a6c-bedc69093795",
   "metadata": {},
   "outputs": [
    {
     "data": {
      "text/html": [
       "<div>\n",
       "<style scoped>\n",
       "    .dataframe tbody tr th:only-of-type {\n",
       "        vertical-align: middle;\n",
       "    }\n",
       "\n",
       "    .dataframe tbody tr th {\n",
       "        vertical-align: top;\n",
       "    }\n",
       "\n",
       "    .dataframe thead th {\n",
       "        text-align: right;\n",
       "    }\n",
       "</style>\n",
       "<table border=\"1\" class=\"dataframe\">\n",
       "  <thead>\n",
       "    <tr style=\"text-align: right;\">\n",
       "      <th></th>\n",
       "      <th>Index</th>\n",
       "      <th>Incoming Calls</th>\n",
       "      <th>Answered Calls</th>\n",
       "      <th>Answer Rate</th>\n",
       "      <th>Abandoned Calls</th>\n",
       "      <th>Answer Speed (AVG)</th>\n",
       "      <th>Talk Duration (AVG)</th>\n",
       "      <th>Waiting Time (AVG)</th>\n",
       "      <th>Service Level (20 Seconds)</th>\n",
       "      <th>Answer Speed (sec)</th>\n",
       "    </tr>\n",
       "  </thead>\n",
       "  <tbody>\n",
       "    <tr>\n",
       "      <th>0</th>\n",
       "      <td>1</td>\n",
       "      <td>217</td>\n",
       "      <td>204</td>\n",
       "      <td>94.01%</td>\n",
       "      <td>13</td>\n",
       "      <td>0:00:17</td>\n",
       "      <td>0:02:14</td>\n",
       "      <td>0:02:45</td>\n",
       "      <td>76.28%</td>\n",
       "      <td>17.0</td>\n",
       "    </tr>\n",
       "    <tr>\n",
       "      <th>1</th>\n",
       "      <td>2</td>\n",
       "      <td>200</td>\n",
       "      <td>182</td>\n",
       "      <td>91.00%</td>\n",
       "      <td>18</td>\n",
       "      <td>0:00:20</td>\n",
       "      <td>0:02:22</td>\n",
       "      <td>0:06:55</td>\n",
       "      <td>72.73%</td>\n",
       "      <td>20.0</td>\n",
       "    </tr>\n",
       "    <tr>\n",
       "      <th>2</th>\n",
       "      <td>3</td>\n",
       "      <td>216</td>\n",
       "      <td>198</td>\n",
       "      <td>91.67%</td>\n",
       "      <td>18</td>\n",
       "      <td>0:00:18</td>\n",
       "      <td>0:02:38</td>\n",
       "      <td>0:03:50</td>\n",
       "      <td>74.30%</td>\n",
       "      <td>18.0</td>\n",
       "    </tr>\n",
       "    <tr>\n",
       "      <th>3</th>\n",
       "      <td>4</td>\n",
       "      <td>155</td>\n",
       "      <td>145</td>\n",
       "      <td>93.55%</td>\n",
       "      <td>10</td>\n",
       "      <td>0:00:15</td>\n",
       "      <td>0:02:29</td>\n",
       "      <td>0:03:12</td>\n",
       "      <td>79.61%</td>\n",
       "      <td>15.0</td>\n",
       "    </tr>\n",
       "    <tr>\n",
       "      <th>4</th>\n",
       "      <td>5</td>\n",
       "      <td>37</td>\n",
       "      <td>37</td>\n",
       "      <td>100.00%</td>\n",
       "      <td>0</td>\n",
       "      <td>0:00:03</td>\n",
       "      <td>0:02:06</td>\n",
       "      <td>0:00:35</td>\n",
       "      <td>97.30%</td>\n",
       "      <td>3.0</td>\n",
       "    </tr>\n",
       "  </tbody>\n",
       "</table>\n",
       "</div>"
      ],
      "text/plain": [
       "   Index  Incoming Calls  Answered Calls Answer Rate  Abandoned Calls  \\\n",
       "0      1             217             204      94.01%               13   \n",
       "1      2             200             182      91.00%               18   \n",
       "2      3             216             198      91.67%               18   \n",
       "3      4             155             145      93.55%               10   \n",
       "4      5              37              37     100.00%                0   \n",
       "\n",
       "  Answer Speed (AVG) Talk Duration (AVG) Waiting Time (AVG)  \\\n",
       "0            0:00:17             0:02:14            0:02:45   \n",
       "1            0:00:20             0:02:22            0:06:55   \n",
       "2            0:00:18             0:02:38            0:03:50   \n",
       "3            0:00:15             0:02:29            0:03:12   \n",
       "4            0:00:03             0:02:06            0:00:35   \n",
       "\n",
       "  Service Level (20 Seconds)  Answer Speed (sec)  \n",
       "0                     76.28%                17.0  \n",
       "1                     72.73%                20.0  \n",
       "2                     74.30%                18.0  \n",
       "3                     79.61%                15.0  \n",
       "4                     97.30%                 3.0  "
      ]
     },
     "execution_count": 4,
     "metadata": {},
     "output_type": "execute_result"
    }
   ],
   "source": [
    "# Run this cell - do not delete it\n",
    "import datetime\n",
    "import time\n",
    "time_list = [time.strptime(el,'%H:%M:%S') for el in cc['Answer Speed (AVG)']]\n",
    "cc['Answer Speed (sec)'] = [datetime.timedelta(hours=x.tm_hour,minutes=x.tm_min,seconds=x.tm_sec).total_seconds() for x in time_list]\n",
    "cc.head()"
   ]
  },
  {
   "cell_type": "code",
   "execution_count": null,
   "id": "5825e9bc-6a40-4144-b750-e0e1c4d13b42",
   "metadata": {},
   "outputs": [],
   "source": []
  },
  {
   "cell_type": "markdown",
   "id": "9b1d581e-0370-4fb9-a0f3-9b346d5a7de0",
   "metadata": {},
   "source": [
    "3. Use the above formula to generate two new columns that will take as input the `Talk Duration (AVG)` and `Waiting Time (AVG)` variables and convert them to two new variables called `Talk Duration (sec)` and `Waiting Time (sec)`, having the correct data format in seconds (data type will be float). "
   ]
  },
  {
   "cell_type": "code",
   "execution_count": null,
   "id": "bbd6923c-cfa3-4751-bae8-a1fcefdb0cf9",
   "metadata": {},
   "outputs": [],
   "source": []
  },
  {
   "cell_type": "markdown",
   "id": "0ac670b1-1f7a-4552-b6cd-f55521161828",
   "metadata": {},
   "source": [
    "4. Explore the numeric data contained in the `cc` DataFrame. Choose a visualisation tool between box plot, histogram and density plot and, for the following three variables, visualise and describe their distribution by commenting on their first four moments (mean, standard deviation, skewness and kurtosis): \n",
    "    1. `Incoming Calls`\n",
    "    2. `Talk Duration (sec)`\n",
    "    3. `Answer Rate`"
   ]
  },
  {
   "cell_type": "code",
   "execution_count": null,
   "id": "8d465dd2-3f43-4169-ac57-4ed9cb6f2fee",
   "metadata": {},
   "outputs": [],
   "source": []
  },
  {
   "cell_type": "code",
   "execution_count": null,
   "id": "75572954-8232-4ed7-bb58-f98914ca5e72",
   "metadata": {},
   "outputs": [],
   "source": []
  },
  {
   "cell_type": "code",
   "execution_count": null,
   "id": "cf12a8c9-49ee-4ef0-bd67-3a7f1ed03887",
   "metadata": {},
   "outputs": [],
   "source": []
  },
  {
   "cell_type": "markdown",
   "id": "b9edb2ac-2505-4e72-9f06-5f2be92ac83b",
   "metadata": {},
   "source": [
    "5. Use an appropriate plot to visualise the bivariate distribution of the `Waiting Time (sec)` and `Service Level (20 Seconds)` variables. What kind of relationship there is between these two variables? Why do you think that is? "
   ]
  },
  {
   "cell_type": "code",
   "execution_count": null,
   "id": "e8ac346a-d483-41af-93d1-21f83172678f",
   "metadata": {},
   "outputs": [],
   "source": []
  },
  {
   "cell_type": "code",
   "execution_count": null,
   "id": "c5fb1149-5df1-4d68-a235-64770d5555f5",
   "metadata": {},
   "outputs": [],
   "source": []
  },
  {
   "cell_type": "code",
   "execution_count": null,
   "id": "0308483e-3453-4266-b033-63eb40ee2e1a",
   "metadata": {},
   "outputs": [],
   "source": []
  }
 ],
 "metadata": {
  "kernelspec": {
   "display_name": "Python 3 (ipykernel)",
   "language": "python",
   "name": "python3"
  },
  "language_info": {
   "codemirror_mode": {
    "name": "ipython",
    "version": 3
   },
   "file_extension": ".py",
   "mimetype": "text/x-python",
   "name": "python",
   "nbconvert_exporter": "python",
   "pygments_lexer": "ipython3",
   "version": "3.9.7"
  }
 },
 "nbformat": 4,
 "nbformat_minor": 5
}
